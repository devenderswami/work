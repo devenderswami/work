{
  "nbformat": 4,
  "nbformat_minor": 0,
  "metadata": {
    "colab": {
      "provenance": [],
      "toc_visible": true,
      "include_colab_link": true
    },
    "kernelspec": {
      "name": "python3",
      "display_name": "Python 3"
    },
    "language_info": {
      "name": "python"
    }
  },
  "cells": [
    {
      "cell_type": "markdown",
      "metadata": {
        "id": "view-in-github",
        "colab_type": "text"
      },
      "source": [
        "<a href=\"https://colab.research.google.com/github/devenderswami/work/blob/master/Copy_of_AI_Assistant_Content_Creation.ipynb\" target=\"_parent\"><img src=\"https://colab.research.google.com/assets/colab-badge.svg\" alt=\"Open In Colab\"/></a>"
      ]
    },
    {
      "cell_type": "markdown",
      "source": [
        "**STEP 1:** Click the Play Button right next to \"pip install openai\""
      ],
      "metadata": {
        "id": "ZrCBC6uDaLiy"
      }
    },
    {
      "cell_type": "code",
      "source": [],
      "metadata": {
        "id": "gWsrkaCWcOkv"
      },
      "execution_count": null,
      "outputs": []
    },
    {
      "cell_type": "markdown",
      "source": [],
      "metadata": {
        "id": "eT__a7dQcPFo"
      }
    },
    {
      "cell_type": "code",
      "source": [
        "pip install openai"
      ],
      "metadata": {
        "id": "H0mS3l0fSFgx"
      },
      "execution_count": null,
      "outputs": []
    },
    {
      "cell_type": "markdown",
      "source": [
        "**STEP 2:** Add your xAI API Key that you got from [x.ai](https://x.ai)\n",
        "\n",
        "**STEP 3:** Add your best writing content in *my_writing_style* (this can be social media posts, blog posts, news...etc).\n",
        "\n",
        "**STEP 4:** Modify the *prompt* to make the AI write about what you want to write.\n",
        "\n",
        "\n",
        "Note: Make sure to review the AI draft and add your own personal touch.\n",
        "\n",
        "If this was helpul, you can support by subscribing [here](https://x.com/dr_cintas)"
      ],
      "metadata": {
        "id": "URH4zjHGabVq"
      }
    },
    {
      "cell_type": "code",
      "execution_count": null,
      "metadata": {
        "id": "Z1bWKv_uRmQy"
      },
      "outputs": [],
      "source": [
        "import os\n",
        "from openai import OpenAI\n",
        "\n",
        "def create_style_assistant(writing_example):\n",
        "    XAI_API_KEY = \"YOUR_XAI_API_KEY_GOES_HERE\"\n",
        "    client = OpenAI(\n",
        "        api_key=XAI_API_KEY,\n",
        "        base_url=\"https://api.x.ai/v1\",\n",
        "    )\n",
        "    system_message = f\"\"\"Analyze this writing example and mimic its style, tone, and voice in your responses: {writing_example} Maintain this same writing style in all your responses.\"\"\"\n",
        "\n",
        "    return client, system_message\n",
        "\n",
        "def generate_response(client, system_message, prompt):\n",
        "    completion = client.chat.completions.create(\n",
        "        model=\"grok-4\",\n",
        "        messages=[\n",
        "            {\"role\": \"system\", \"content\": system_message},\n",
        "            {\"role\": \"user\", \"content\": prompt},\n",
        "        ]\n",
        "    )\n",
        "\n",
        "    return completion.choices[0].message.content\n",
        "\n",
        "if __name__ == \"__main__\":\n",
        "    my_writing_style = \"\"\"YOUR WRITING EXAMPLES GO HERE\"\"\"\n",
        "\n",
        "    # Create the assistant\n",
        "    client, system_message = create_style_assistant(my_writing_style)\n",
        "\n",
        "    # Generate a response\n",
        "    prompt = f\"\"\"Write a post about this news:......\"\"\"\n",
        "    response = generate_response(client, system_message, prompt)\n",
        "    print(response)"
      ]
    }
  ]
}